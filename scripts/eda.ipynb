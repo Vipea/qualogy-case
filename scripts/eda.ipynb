{
 "cells": [
  {
   "cell_type": "code",
   "execution_count": 7,
   "id": "41b7d533-7b81-44b6-a58a-0b09fe26e2f4",
   "metadata": {},
   "outputs": [],
   "source": [
    "import pandas as pd\n",
    "import numpy as np\n",
    "\n",
    "import matplotlib.pyplot as plt\n",
    "import seaborn as sns\n",
    "\n",
    "from preprocess import import_data\n",
    "\n",
    "sns.set_theme()"
   ]
  },
  {
   "cell_type": "code",
   "execution_count": 8,
   "id": "3e2fdba4-4e98-4f7c-9457-d46cb3eed2dd",
   "metadata": {},
   "outputs": [
    {
     "data": {
      "text/html": [
       "<div>\n",
       "<style scoped>\n",
       "    .dataframe tbody tr th:only-of-type {\n",
       "        vertical-align: middle;\n",
       "    }\n",
       "\n",
       "    .dataframe tbody tr th {\n",
       "        vertical-align: top;\n",
       "    }\n",
       "\n",
       "    .dataframe thead th {\n",
       "        text-align: right;\n",
       "    }\n",
       "</style>\n",
       "<table border=\"1\" class=\"dataframe\">\n",
       "  <thead>\n",
       "    <tr style=\"text-align: right;\">\n",
       "      <th></th>\n",
       "      <th>id</th>\n",
       "      <th>duration</th>\n",
       "      <th>sex</th>\n",
       "      <th>age</th>\n",
       "      <th>num_children</th>\n",
       "      <th>country</th>\n",
       "      <th>acc_type</th>\n",
       "    </tr>\n",
       "  </thead>\n",
       "  <tbody>\n",
       "    <tr>\n",
       "      <th>0</th>\n",
       "      <td>1010286</td>\n",
       "      <td>7</td>\n",
       "      <td>F</td>\n",
       "      <td>40</td>\n",
       "      <td>0</td>\n",
       "      <td>SE</td>\n",
       "      <td>Apt</td>\n",
       "    </tr>\n",
       "    <tr>\n",
       "      <th>1</th>\n",
       "      <td>1000152</td>\n",
       "      <td>5</td>\n",
       "      <td>M</td>\n",
       "      <td>NaN</td>\n",
       "      <td>0</td>\n",
       "      <td>NaN</td>\n",
       "      <td>Apt</td>\n",
       "    </tr>\n",
       "    <tr>\n",
       "      <th>2</th>\n",
       "      <td>1009019</td>\n",
       "      <td>4</td>\n",
       "      <td>F</td>\n",
       "      <td>39</td>\n",
       "      <td>1</td>\n",
       "      <td>ES</td>\n",
       "      <td>Hotel</td>\n",
       "    </tr>\n",
       "    <tr>\n",
       "      <th>3</th>\n",
       "      <td>1007840</td>\n",
       "      <td>5</td>\n",
       "      <td>F</td>\n",
       "      <td>45</td>\n",
       "      <td>0</td>\n",
       "      <td>NL</td>\n",
       "      <td>Hotel</td>\n",
       "    </tr>\n",
       "    <tr>\n",
       "      <th>4</th>\n",
       "      <td>1006939</td>\n",
       "      <td>5</td>\n",
       "      <td>M</td>\n",
       "      <td>45</td>\n",
       "      <td>1</td>\n",
       "      <td>UK</td>\n",
       "      <td>Hotel</td>\n",
       "    </tr>\n",
       "  </tbody>\n",
       "</table>\n",
       "</div>"
      ],
      "text/plain": [
       "        id duration sex  age num_children country acc_type\n",
       "0  1010286        7   F   40            0      SE      Apt\n",
       "1  1000152        5   M  NaN            0     NaN      Apt\n",
       "2  1009019        4   F   39            1      ES    Hotel\n",
       "3  1007840        5   F   45            0      NL    Hotel\n",
       "4  1006939        5   M   45            1      UK    Hotel"
      ]
     },
     "execution_count": 8,
     "metadata": {},
     "output_type": "execute_result"
    }
   ],
   "source": [
    "df = import_data('train_data.txt')\n",
    "df.head()"
   ]
  },
  {
   "cell_type": "code",
   "execution_count": 9,
   "id": "47428923-9d31-4694-b7c8-68e22ff47817",
   "metadata": {},
   "outputs": [
    {
     "data": {
      "text/plain": [
       "id                0\n",
       "duration          0\n",
       "sex               0\n",
       "age             994\n",
       "num_children    971\n",
       "country         996\n",
       "acc_type          0\n",
       "dtype: int64"
      ]
     },
     "execution_count": 9,
     "metadata": {},
     "output_type": "execute_result"
    }
   ],
   "source": [
    "# Check for missing values\n",
    "df.isnull().sum()\n"
   ]
  },
  {
   "cell_type": "code",
   "execution_count": 10,
   "id": "6857e8d3-eb2b-40cb-a7dc-f07a88cd0389",
   "metadata": {},
   "outputs": [
    {
     "data": {
      "text/html": [
       "<div>\n",
       "<style scoped>\n",
       "    .dataframe tbody tr th:only-of-type {\n",
       "        vertical-align: middle;\n",
       "    }\n",
       "\n",
       "    .dataframe tbody tr th {\n",
       "        vertical-align: top;\n",
       "    }\n",
       "\n",
       "    .dataframe thead th {\n",
       "        text-align: right;\n",
       "    }\n",
       "</style>\n",
       "<table border=\"1\" class=\"dataframe\">\n",
       "  <thead>\n",
       "    <tr style=\"text-align: right;\">\n",
       "      <th></th>\n",
       "      <th>id</th>\n",
       "      <th>duration</th>\n",
       "      <th>sex</th>\n",
       "      <th>age</th>\n",
       "      <th>num_children</th>\n",
       "      <th>country</th>\n",
       "      <th>acc_type</th>\n",
       "    </tr>\n",
       "  </thead>\n",
       "  <tbody>\n",
       "    <tr>\n",
       "      <th>1</th>\n",
       "      <td>1000152</td>\n",
       "      <td>5</td>\n",
       "      <td>M</td>\n",
       "      <td>NaN</td>\n",
       "      <td>0</td>\n",
       "      <td>NaN</td>\n",
       "      <td>Apt</td>\n",
       "    </tr>\n",
       "    <tr>\n",
       "      <th>9</th>\n",
       "      <td>1006149</td>\n",
       "      <td>5</td>\n",
       "      <td>F</td>\n",
       "      <td>31</td>\n",
       "      <td>NaN</td>\n",
       "      <td>FI</td>\n",
       "      <td>Apt</td>\n",
       "    </tr>\n",
       "    <tr>\n",
       "      <th>11</th>\n",
       "      <td>1006502</td>\n",
       "      <td>9</td>\n",
       "      <td>F</td>\n",
       "      <td>44</td>\n",
       "      <td>NaN</td>\n",
       "      <td>ES</td>\n",
       "      <td>Apt</td>\n",
       "    </tr>\n",
       "    <tr>\n",
       "      <th>15</th>\n",
       "      <td>1000476</td>\n",
       "      <td>4</td>\n",
       "      <td>F</td>\n",
       "      <td>48</td>\n",
       "      <td>0</td>\n",
       "      <td>NaN</td>\n",
       "      <td>Hotel</td>\n",
       "    </tr>\n",
       "    <tr>\n",
       "      <th>16</th>\n",
       "      <td>1011405</td>\n",
       "      <td>3</td>\n",
       "      <td>M</td>\n",
       "      <td>NaN</td>\n",
       "      <td>1</td>\n",
       "      <td>NaN</td>\n",
       "      <td>Hotel</td>\n",
       "    </tr>\n",
       "    <tr>\n",
       "      <th>19</th>\n",
       "      <td>1005786</td>\n",
       "      <td>2</td>\n",
       "      <td>F</td>\n",
       "      <td>41</td>\n",
       "      <td>NaN</td>\n",
       "      <td>SE</td>\n",
       "      <td>Hotel</td>\n",
       "    </tr>\n",
       "    <tr>\n",
       "      <th>23</th>\n",
       "      <td>1000175</td>\n",
       "      <td>3</td>\n",
       "      <td>M</td>\n",
       "      <td>NaN</td>\n",
       "      <td>1</td>\n",
       "      <td>NaN</td>\n",
       "      <td>Hotel</td>\n",
       "    </tr>\n",
       "    <tr>\n",
       "      <th>25</th>\n",
       "      <td>1004610</td>\n",
       "      <td>4</td>\n",
       "      <td>M</td>\n",
       "      <td>43</td>\n",
       "      <td>0</td>\n",
       "      <td>NaN</td>\n",
       "      <td>Apt</td>\n",
       "    </tr>\n",
       "    <tr>\n",
       "      <th>27</th>\n",
       "      <td>1004462</td>\n",
       "      <td>8</td>\n",
       "      <td>M</td>\n",
       "      <td>39</td>\n",
       "      <td>NaN</td>\n",
       "      <td>DK</td>\n",
       "      <td>Apt</td>\n",
       "    </tr>\n",
       "    <tr>\n",
       "      <th>28</th>\n",
       "      <td>1008547</td>\n",
       "      <td>9</td>\n",
       "      <td>M</td>\n",
       "      <td>NaN</td>\n",
       "      <td>NaN</td>\n",
       "      <td>IT</td>\n",
       "      <td>Hotel</td>\n",
       "    </tr>\n",
       "    <tr>\n",
       "      <th>31</th>\n",
       "      <td>1007511</td>\n",
       "      <td>3</td>\n",
       "      <td>M</td>\n",
       "      <td>NaN</td>\n",
       "      <td>1</td>\n",
       "      <td>ES</td>\n",
       "      <td>Apt</td>\n",
       "    </tr>\n",
       "    <tr>\n",
       "      <th>33</th>\n",
       "      <td>1003040</td>\n",
       "      <td>3</td>\n",
       "      <td>F</td>\n",
       "      <td>45</td>\n",
       "      <td>0</td>\n",
       "      <td>NaN</td>\n",
       "      <td>Hotel</td>\n",
       "    </tr>\n",
       "    <tr>\n",
       "      <th>37</th>\n",
       "      <td>1000683</td>\n",
       "      <td>2</td>\n",
       "      <td>M</td>\n",
       "      <td>NaN</td>\n",
       "      <td>1</td>\n",
       "      <td>NL</td>\n",
       "      <td>Apt</td>\n",
       "    </tr>\n",
       "    <tr>\n",
       "      <th>38</th>\n",
       "      <td>1001030</td>\n",
       "      <td>8</td>\n",
       "      <td>F</td>\n",
       "      <td>NaN</td>\n",
       "      <td>0</td>\n",
       "      <td>FI</td>\n",
       "      <td>Hotel</td>\n",
       "    </tr>\n",
       "    <tr>\n",
       "      <th>59</th>\n",
       "      <td>1004861</td>\n",
       "      <td>2</td>\n",
       "      <td>M</td>\n",
       "      <td>40</td>\n",
       "      <td>NaN</td>\n",
       "      <td>UK</td>\n",
       "      <td>Hotel</td>\n",
       "    </tr>\n",
       "    <tr>\n",
       "      <th>61</th>\n",
       "      <td>1005777</td>\n",
       "      <td>7</td>\n",
       "      <td>M</td>\n",
       "      <td>NaN</td>\n",
       "      <td>0</td>\n",
       "      <td>ES</td>\n",
       "      <td>Apt</td>\n",
       "    </tr>\n",
       "    <tr>\n",
       "      <th>62</th>\n",
       "      <td>1012376</td>\n",
       "      <td>3</td>\n",
       "      <td>M</td>\n",
       "      <td>37</td>\n",
       "      <td>NaN</td>\n",
       "      <td>SE</td>\n",
       "      <td>Hotel</td>\n",
       "    </tr>\n",
       "    <tr>\n",
       "      <th>64</th>\n",
       "      <td>1006136</td>\n",
       "      <td>1</td>\n",
       "      <td>F</td>\n",
       "      <td>41</td>\n",
       "      <td>1</td>\n",
       "      <td>NaN</td>\n",
       "      <td>Apt</td>\n",
       "    </tr>\n",
       "    <tr>\n",
       "      <th>73</th>\n",
       "      <td>1008258</td>\n",
       "      <td>4</td>\n",
       "      <td>F</td>\n",
       "      <td>45</td>\n",
       "      <td>1</td>\n",
       "      <td>NaN</td>\n",
       "      <td>Apt</td>\n",
       "    </tr>\n",
       "    <tr>\n",
       "      <th>76</th>\n",
       "      <td>1004141</td>\n",
       "      <td>3</td>\n",
       "      <td>M</td>\n",
       "      <td>46</td>\n",
       "      <td>NaN</td>\n",
       "      <td>ES</td>\n",
       "      <td>Hotel</td>\n",
       "    </tr>\n",
       "  </tbody>\n",
       "</table>\n",
       "</div>"
      ],
      "text/plain": [
       "         id duration sex  age num_children country acc_type\n",
       "1   1000152        5   M  NaN            0     NaN      Apt\n",
       "9   1006149        5   F   31          NaN      FI      Apt\n",
       "11  1006502        9   F   44          NaN      ES      Apt\n",
       "15  1000476        4   F   48            0     NaN    Hotel\n",
       "16  1011405        3   M  NaN            1     NaN    Hotel\n",
       "19  1005786        2   F   41          NaN      SE    Hotel\n",
       "23  1000175        3   M  NaN            1     NaN    Hotel\n",
       "25  1004610        4   M   43            0     NaN      Apt\n",
       "27  1004462        8   M   39          NaN      DK      Apt\n",
       "28  1008547        9   M  NaN          NaN      IT    Hotel\n",
       "31  1007511        3   M  NaN            1      ES      Apt\n",
       "33  1003040        3   F   45            0     NaN    Hotel\n",
       "37  1000683        2   M  NaN            1      NL      Apt\n",
       "38  1001030        8   F  NaN            0      FI    Hotel\n",
       "59  1004861        2   M   40          NaN      UK    Hotel\n",
       "61  1005777        7   M  NaN            0      ES      Apt\n",
       "62  1012376        3   M   37          NaN      SE    Hotel\n",
       "64  1006136        1   F   41            1     NaN      Apt\n",
       "73  1008258        4   F   45            1     NaN      Apt\n",
       "76  1004141        3   M   46          NaN      ES    Hotel"
      ]
     },
     "execution_count": 10,
     "metadata": {},
     "output_type": "execute_result"
    }
   ],
   "source": [
    "# Check missing value orientation\n",
    "null_data = df[df.isnull().any(axis=1)]\n",
    "null_data.head(20)"
   ]
  },
  {
   "cell_type": "code",
   "execution_count": 11,
   "id": "9382fae4-a2d3-4297-b3d1-3a916c0f62b9",
   "metadata": {},
   "outputs": [],
   "source": [
    "# Function that plots a stacked bar chart for a single variable\n",
    "\n",
    "def plot_stacked_bar(column):\n",
    "    plt.figure()\n",
    "    \n",
    "    #convert numerical variables for sorted x-axis in plot\n",
    "    try:\n",
    "        df[column] = df[column].apply(lambda x: float(x))\n",
    "        \n",
    "    except Exception as e:\n",
    "        print('pass')\n",
    "        \n",
    "    \n",
    "    \n",
    "    df.groupby(by=column)['acc_type'].value_counts().unstack().plot(kind='bar', stacked=True)\n",
    "    plt.ylabel('count')\n",
    "    plt.show()"
   ]
  },
  {
   "cell_type": "code",
   "execution_count": 12,
   "id": "b71a3e31-ec6f-40df-bb42-c6c45944d0e4",
   "metadata": {},
   "outputs": [
    {
     "data": {
      "text/plain": [
       "<Figure size 432x288 with 0 Axes>"
      ]
     },
     "metadata": {},
     "output_type": "display_data"
    },
    {
     "data": {
      "image/png": "[encoded data removed]",
      "text/plain": [
       "<Figure size 432x288 with 1 Axes>"
      ]
     },
     "metadata": {},
     "output_type": "display_data"
    },
    {
     "name": "stdout",
     "output_type": "stream",
     "text": [
      "pass\n"
     ]
    },
    {
     "data": {
      "text/plain": [
       "<Figure size 432x288 with 0 Axes>"
      ]
     },
     "metadata": {},
     "output_type": "display_data"
    },
    {
     "data": {
      "image/png": "[encoded data removed]",
      "text/plain": [
       "<Figure size 432x288 with 1 Axes>"
      ]
     },
     "metadata": {},
     "output_type": "display_data"
    },
    {
     "data": {
      "text/plain": [
       "<Figure size 432x288 with 0 Axes>"
      ]
     },
     "metadata": {},
     "output_type": "display_data"
    },
    {
     "data": {
      "image/png": "[encoded data removed]",
      "text/plain": [
       "<Figure size 432x288 with 1 Axes>"
      ]
     },
     "metadata": {},
     "output_type": "display_data"
    },
    {
     "data": {
      "text/plain": [
       "<Figure size 432x288 with 0 Axes>"
      ]
     },
     "metadata": {},
     "output_type": "display_data"
    },
    {
     "data": {
      "image/png": "[encoded data removed]",
      "text/plain": [
       "<Figure size 432x288 with 1 Axes>"
      ]
     },
     "metadata": {},
     "output_type": "display_data"
    },
    {
     "name": "stdout",
     "output_type": "stream",
     "text": [
      "pass\n"
     ]
    },
    {
     "data": {
      "text/plain": [
       "<Figure size 432x288 with 0 Axes>"
      ]
     },
     "metadata": {},
     "output_type": "display_data"
    },
    {
     "data": {
      "image/png": "[encoded data removed]",
      "text/plain": [
       "<Figure size 432x288 with 1 Axes>"
      ]
     },
     "metadata": {},
     "output_type": "display_data"
    }
   ],
   "source": [
    "plot_stacked_bar('duration')\n",
    "plot_stacked_bar('sex')\n",
    "plot_stacked_bar('age')\n",
    "plot_stacked_bar('num_children')\n",
    "plot_stacked_bar('country')"
   ]
  },
  {
   "cell_type": "code",
   "execution_count": 13,
   "id": "d80185af-f5f4-476c-ab0e-f5c55c4509a6",
   "metadata": {},
   "outputs": [],
   "source": [
    "# Prepare df for correlation matrix\n",
    "df.sex = [1 if sex == 'M' else 0 for sex in df.sex]\n",
    "df.acc_type = [1 if acc == 'Hotel' else 0 for acc in df.acc_type]\n",
    "\n",
    "df.id = pd.to_numeric(df.id)\n",
    "df.duration = pd.to_numeric(df.duration)\n",
    "df.age = pd.to_numeric(df.age)\n",
    "df.num_children = pd.to_numeric(df.num_children)\n",
    "\n",
    "\n"
   ]
  },
  {
   "cell_type": "code",
   "execution_count": 14,
   "id": "668afd17-fd43-4637-af91-9748965ab2e3",
   "metadata": {},
   "outputs": [
    {
     "data": {
      "text/html": [
       "<style  type=\"text/css\" >\n",
       "#T_eaad7_row0_col0,#T_eaad7_row1_col1,#T_eaad7_row2_col2,#T_eaad7_row3_col3,#T_eaad7_row4_col4,#T_eaad7_row5_col5{\n",
       "            background-color:  #b40426;\n",
       "            color:  #f1f1f1;\n",
       "        }#T_eaad7_row0_col1,#T_eaad7_row0_col4{\n",
       "            background-color:  #3c4ec2;\n",
       "            color:  #f1f1f1;\n",
       "        }#T_eaad7_row0_col2{\n",
       "            background-color:  #4257c9;\n",
       "            color:  #f1f1f1;\n",
       "        }#T_eaad7_row0_col3,#T_eaad7_row2_col5,#T_eaad7_row3_col0,#T_eaad7_row3_col4,#T_eaad7_row4_col1,#T_eaad7_row4_col5,#T_eaad7_row5_col1,#T_eaad7_row5_col2,#T_eaad7_row5_col4{\n",
       "            background-color:  #3b4cc0;\n",
       "            color:  #f1f1f1;\n",
       "        }#T_eaad7_row0_col5,#T_eaad7_row2_col3{\n",
       "            background-color:  #4358cb;\n",
       "            color:  #f1f1f1;\n",
       "        }#T_eaad7_row1_col0,#T_eaad7_row1_col2,#T_eaad7_row3_col1,#T_eaad7_row3_col2,#T_eaad7_row5_col3{\n",
       "            background-color:  #4055c8;\n",
       "            color:  #f1f1f1;\n",
       "        }#T_eaad7_row1_col3,#T_eaad7_row5_col0{\n",
       "            background-color:  #455cce;\n",
       "            color:  #f1f1f1;\n",
       "        }#T_eaad7_row1_col4,#T_eaad7_row1_col5,#T_eaad7_row4_col3{\n",
       "            background-color:  #3d50c3;\n",
       "            color:  #f1f1f1;\n",
       "        }#T_eaad7_row2_col0,#T_eaad7_row2_col4,#T_eaad7_row4_col2{\n",
       "            background-color:  #445acc;\n",
       "            color:  #f1f1f1;\n",
       "        }#T_eaad7_row2_col1,#T_eaad7_row3_col5,#T_eaad7_row4_col0{\n",
       "            background-color:  #3e51c5;\n",
       "            color:  #f1f1f1;\n",
       "        }</style><table id=\"T_eaad7_\" ><thead>    <tr>        <th class=\"blank level0\" ></th>        <th class=\"col_heading level0 col0\" >id</th>        <th class=\"col_heading level0 col1\" >duration</th>        <th class=\"col_heading level0 col2\" >sex</th>        <th class=\"col_heading level0 col3\" >age</th>        <th class=\"col_heading level0 col4\" >num_children</th>        <th class=\"col_heading level0 col5\" >acc_type</th>    </tr></thead><tbody>\n",
       "                <tr>\n",
       "                        <th id=\"T_eaad7_level0_row0\" class=\"row_heading level0 row0\" >id</th>\n",
       "                        <td id=\"T_eaad7_row0_col0\" class=\"data row0 col0\" >1.000000</td>\n",
       "                        <td id=\"T_eaad7_row0_col1\" class=\"data row0 col1\" >0.000769</td>\n",
       "                        <td id=\"T_eaad7_row0_col2\" class=\"data row0 col2\" >0.013521</td>\n",
       "                        <td id=\"T_eaad7_row0_col3\" class=\"data row0 col3\" >-0.021860</td>\n",
       "                        <td id=\"T_eaad7_row0_col4\" class=\"data row0 col4\" >-0.007013</td>\n",
       "                        <td id=\"T_eaad7_row0_col5\" class=\"data row0 col5\" >0.014468</td>\n",
       "            </tr>\n",
       "            <tr>\n",
       "                        <th id=\"T_eaad7_level0_row1\" class=\"row_heading level0 row1\" >duration</th>\n",
       "                        <td id=\"T_eaad7_row1_col0\" class=\"data row1 col0\" >0.000769</td>\n",
       "                        <td id=\"T_eaad7_row1_col1\" class=\"data row1 col1\" >1.000000</td>\n",
       "                        <td id=\"T_eaad7_row1_col2\" class=\"data row1 col2\" >0.008632</td>\n",
       "                        <td id=\"T_eaad7_row1_col3\" class=\"data row1 col3\" >0.017139</td>\n",
       "                        <td id=\"T_eaad7_row1_col4\" class=\"data row1 col4\" >-0.000248</td>\n",
       "                        <td id=\"T_eaad7_row1_col5\" class=\"data row1 col5\" >-0.003178</td>\n",
       "            </tr>\n",
       "            <tr>\n",
       "                        <th id=\"T_eaad7_level0_row2\" class=\"row_heading level0 row2\" >sex</th>\n",
       "                        <td id=\"T_eaad7_row2_col0\" class=\"data row2 col0\" >0.013521</td>\n",
       "                        <td id=\"T_eaad7_row2_col1\" class=\"data row2 col1\" >0.008632</td>\n",
       "                        <td id=\"T_eaad7_row2_col2\" class=\"data row2 col2\" >1.000000</td>\n",
       "                        <td id=\"T_eaad7_row2_col3\" class=\"data row2 col3\" >0.009047</td>\n",
       "                        <td id=\"T_eaad7_row2_col4\" class=\"data row2 col4\" >0.020868</td>\n",
       "                        <td id=\"T_eaad7_row2_col5\" class=\"data row2 col5\" >-0.014056</td>\n",
       "            </tr>\n",
       "            <tr>\n",
       "                        <th id=\"T_eaad7_level0_row3\" class=\"row_heading level0 row3\" >age</th>\n",
       "                        <td id=\"T_eaad7_row3_col0\" class=\"data row3 col0\" >-0.021860</td>\n",
       "                        <td id=\"T_eaad7_row3_col1\" class=\"data row3 col1\" >0.017139</td>\n",
       "                        <td id=\"T_eaad7_row3_col2\" class=\"data row3 col2\" >0.009047</td>\n",
       "                        <td id=\"T_eaad7_row3_col3\" class=\"data row3 col3\" >1.000000</td>\n",
       "                        <td id=\"T_eaad7_row3_col4\" class=\"data row3 col4\" >-0.011178</td>\n",
       "                        <td id=\"T_eaad7_row3_col5\" class=\"data row3 col5\" >-0.000013</td>\n",
       "            </tr>\n",
       "            <tr>\n",
       "                        <th id=\"T_eaad7_level0_row4\" class=\"row_heading level0 row4\" >num_children</th>\n",
       "                        <td id=\"T_eaad7_row4_col0\" class=\"data row4 col0\" >-0.007013</td>\n",
       "                        <td id=\"T_eaad7_row4_col1\" class=\"data row4 col1\" >-0.000248</td>\n",
       "                        <td id=\"T_eaad7_row4_col2\" class=\"data row4 col2\" >0.020868</td>\n",
       "                        <td id=\"T_eaad7_row4_col3\" class=\"data row4 col3\" >-0.011178</td>\n",
       "                        <td id=\"T_eaad7_row4_col4\" class=\"data row4 col4\" >1.000000</td>\n",
       "                        <td id=\"T_eaad7_row4_col5\" class=\"data row4 col5\" >-0.011502</td>\n",
       "            </tr>\n",
       "            <tr>\n",
       "                        <th id=\"T_eaad7_level0_row5\" class=\"row_heading level0 row5\" >acc_type</th>\n",
       "                        <td id=\"T_eaad7_row5_col0\" class=\"data row5 col0\" >0.014468</td>\n",
       "                        <td id=\"T_eaad7_row5_col1\" class=\"data row5 col1\" >-0.003178</td>\n",
       "                        <td id=\"T_eaad7_row5_col2\" class=\"data row5 col2\" >-0.014056</td>\n",
       "                        <td id=\"T_eaad7_row5_col3\" class=\"data row5 col3\" >-0.000013</td>\n",
       "                        <td id=\"T_eaad7_row5_col4\" class=\"data row5 col4\" >-0.011502</td>\n",
       "                        <td id=\"T_eaad7_row5_col5\" class=\"data row5 col5\" >1.000000</td>\n",
       "            </tr>\n",
       "    </tbody></table>"
      ],
      "text/plain": [
       "<pandas.io.formats.style.Styler at 0x7fec51222790>"
      ]
     },
     "execution_count": 14,
     "metadata": {},
     "output_type": "execute_result"
    }
   ],
   "source": [
    "# Correlation matrix\n",
    "corr = df.corr()\n",
    "corr.style.background_gradient(cmap='coolwarm')"
   ]
  },
  {
   "cell_type": "code",
   "execution_count": null,
   "id": "8c15e719-2d7d-423e-a6de-b79f7b7e0d60",
   "metadata": {},
   "outputs": [],
   "source": []
  },
  {
   "cell_type": "code",
   "execution_count": null,
   "id": "9eacd9ac-9d07-4c06-ab42-ec2ea6a95961",
   "metadata": {},
   "outputs": [],
   "source": []
  },
  {
   "cell_type": "code",
   "execution_count": null,
   "id": "d6cfb219-fea1-494b-ba10-dc915154282c",
   "metadata": {},
   "outputs": [],
   "source": []
  },
  {
   "cell_type": "code",
   "execution_count": null,
   "id": "69c5e75c-32aa-4254-b187-a3fe497da308",
   "metadata": {},
   "outputs": [],
   "source": []
  }
 ],
 "metadata": {
  "kernelspec": {
   "display_name": "Python 3",
   "language": "python",
   "name": "python3"
  },
  "language_info": {
   "codemirror_mode": {
    "name": "ipython",
    "version": 3
   },
   "file_extension": ".py",
   "mimetype": "text/x-python",
   "name": "python",
   "nbconvert_exporter": "python",
   "pygments_lexer": "ipython3",
   "version": "3.8.8"
  }
 },
 "nbformat": 4,
 "nbformat_minor": 5
}
